{
 "cells": [
  {
   "cell_type": "markdown",
   "metadata": {},
   "source": [
    "# <center>  Chapter 1 - The Computer"
   ]
  },
  {
   "cell_type": "markdown",
   "metadata": {},
   "source": [
    "### 1.1 Hardware ▶️ The Physical Unit\n",
    "##### 1.1.1 Input Devices\n",
    "##### 1.1.2 Central Processing Unit\n",
    "##### 1.1.3 Output Devices"
   ]
  },
  {
   "cell_type": "markdown",
   "metadata": {},
   "source": [
    "### 1.2 Software ▶️ The Program File\n",
    "\n",
    "##### 1.2.1 System Software \n",
    "##### 1.2.2 Application Software"
   ]
  },
  {
   "cell_type": "markdown",
   "metadata": {},
   "source": [
    "# <center> Chapter 2 - The Expression"
   ]
  },
  {
   "cell_type": "markdown",
   "metadata": {},
   "source": [
    "### 2.1 Data ▶️ variable_name = data_value"
   ]
  },
  {
   "cell_type": "markdown",
   "metadata": {},
   "source": [
    "#### 2.1.1 data_value"
   ]
  },
  {
   "cell_type": "markdown",
   "metadata": {},
   "source": [
    "▶️ A. NoneType Instance: Create an instance representing the NoneType.\n"
   ]
  },
  {
   "cell_type": "code",
   "execution_count": null,
   "metadata": {},
   "outputs": [],
   "source": []
  },
  {
   "cell_type": "markdown",
   "metadata": {},
   "source": [
    "▶️ B. Integer Instance: Create an instance representing the integer 42."
   ]
  },
  {
   "cell_type": "code",
   "execution_count": null,
   "metadata": {},
   "outputs": [],
   "source": []
  },
  {
   "cell_type": "markdown",
   "metadata": {},
   "source": [
    "▶️  C. Float Instance: Create an instance representing the float 3.14."
   ]
  },
  {
   "cell_type": "code",
   "execution_count": null,
   "metadata": {},
   "outputs": [],
   "source": []
  },
  {
   "cell_type": "markdown",
   "metadata": {},
   "source": [
    "▶️  D. Complex Instance: Create an instance representing a complex number, for example, 2 + 3i."
   ]
  },
  {
   "cell_type": "code",
   "execution_count": null,
   "metadata": {},
   "outputs": [],
   "source": []
  },
  {
   "cell_type": "markdown",
   "metadata": {},
   "source": [
    "▶️ E. Boolean Instances: Create two instances representing the boolean values True and False."
   ]
  },
  {
   "cell_type": "code",
   "execution_count": null,
   "metadata": {},
   "outputs": [],
   "source": []
  },
  {
   "cell_type": "markdown",
   "metadata": {},
   "source": [
    "▶️  F. String Instance: Create an instance representing the string \"Hello, world!\"."
   ]
  },
  {
   "cell_type": "code",
   "execution_count": null,
   "metadata": {},
   "outputs": [],
   "source": []
  },
  {
   "cell_type": "markdown",
   "metadata": {},
   "source": [
    "▶️  G. Tuple Instance: Create an instance representing a tuple containing the elements \"apple\", \"banana\", and \"cherry\"."
   ]
  },
  {
   "cell_type": "code",
   "execution_count": null,
   "metadata": {},
   "outputs": [],
   "source": []
  },
  {
   "cell_type": "markdown",
   "metadata": {},
   "source": [
    "▶️ H. Set Instance: Create an instance representing a set containing elements 1, 2, 3, 4, and \"Read the Book\"."
   ]
  },
  {
   "cell_type": "code",
   "execution_count": null,
   "metadata": {},
   "outputs": [],
   "source": []
  },
  {
   "cell_type": "markdown",
   "metadata": {},
   "source": [
    "▶️ I. List Instance: Create an instance representing a list containing the elements 1, None, 3, 4, and 'Do Good'."
   ]
  },
  {
   "cell_type": "code",
   "execution_count": null,
   "metadata": {},
   "outputs": [],
   "source": []
  },
  {
   "cell_type": "markdown",
   "metadata": {},
   "source": [
    "▶️ J. Dictionary Instance: Create an instance representing a dictionary with the keys \"name\" and \"age\", and their corresponding values \"John\" and 30."
   ]
  },
  {
   "cell_type": "code",
   "execution_count": null,
   "metadata": {},
   "outputs": [],
   "source": []
  },
  {
   "cell_type": "markdown",
   "metadata": {},
   "source": [
    "▶️  K. Create a string named `my_string` that contains the following sentences: \n",
    "<pre>\n",
    "      \"Read in the name of your Lord who created.\n",
    "      Created man from a clinging substance.\n",
    "      Read, and your Lord is the most Generous.\n",
    "      Who taught by the pen.\n",
    "      Taught man that which he knew not.\"</pre>"
   ]
  },
  {
   "cell_type": "code",
   "execution_count": null,
   "metadata": {},
   "outputs": [],
   "source": []
  },
  {
   "cell_type": "markdown",
   "metadata": {},
   "source": [
    "▶️ L. Create a tuple named `my_tuple` that contains the following elements:\n",
    "   Integer: 42, Float: 3.14, String: \"Hello\", Boolean: True, List: [1, 2, 3], Tuple: (\"apple\", \"banana\"), Dictionary: {\"name\": \"John\", \"age\": 30}, Set: {1, 2, 3}"
   ]
  },
  {
   "cell_type": "code",
   "execution_count": null,
   "metadata": {},
   "outputs": [],
   "source": []
  },
  {
   "cell_type": "markdown",
   "metadata": {},
   "source": [
    "▶️ M. Create a set named `my_set` that contains the following elements:\n",
    "   Integer: 42, Float: 3.14, String: \"Hello\", Boolean: True, Tuple: (1, 2, 3), String: \"apple\" (Note: Duplicates are automatically removed in a set)"
   ]
  },
  {
   "cell_type": "code",
   "execution_count": null,
   "metadata": {},
   "outputs": [],
   "source": []
  },
  {
   "cell_type": "markdown",
   "metadata": {},
   "source": [
    "▶️ N. Create a list named `my_list` that contains the following elements:\n",
    "   Integer: 42, Float: 3.14, String: \"Hello\", Boolean: True, List: [1, 2, 3], Tuple: (\"apple\", \"banana\"), Dictionary: {\"name\": \"John\", \"age\": 30}, Set: {1, 2, 3}"
   ]
  },
  {
   "cell_type": "code",
   "execution_count": null,
   "metadata": {},
   "outputs": [],
   "source": []
  },
  {
   "cell_type": "markdown",
   "metadata": {},
   "source": [
    "▶️ O. Create a dictionary named `my_dict` that contains the following key-value pairs:\n",
    "   \"integer\": 42, \"float\": 3.14, \"string\": \"Hello\", \"boolean\": True, \"list\": [1, 2, 3], \"tuple\": (\"apple\", \"banana\"), \"nested_dict\": {\"name\": \"John\", \"age\": 30}, \"set\": {1, 2, 3}"
   ]
  },
  {
   "cell_type": "code",
   "execution_count": null,
   "metadata": {},
   "outputs": [],
   "source": []
  },
  {
   "cell_type": "markdown",
   "metadata": {},
   "source": [
    "#### 2.1.2 var_name[start:end:step] "
   ]
  },
  {
   "cell_type": "markdown",
   "metadata": {},
   "source": [
    "▶️ A. Given the string \"Hello, world!\", perform the following tasks:<pre>\n",
    "      a. Retrieve the first character of the string.\n",
    "      b. Retrieve the last character of the string.\n",
    "      c. Retrieve the substring \"Hello\".\n",
    "      d. Retrieve the substring \"world\".\n",
    "      e. Reverse the string."
   ]
  },
  {
   "cell_type": "markdown",
   "metadata": {},
   "source": [
    "▶️ B. Given the string \"The quick brown fox jumps over the lazy dog\", perform the following tasks:<pre>\n",
    "   a. Retrieve the characters at even indices.\n",
    "   b. Retrieve the characters at odd indices.\n",
    "   c. Retrieve every third character starting from the second character.\n",
    "   d. Reverse the string using slicing."
   ]
  },
  {
   "cell_type": "markdown",
   "metadata": {},
   "source": [
    "▶️ C. Given the tuple (10, 20, 30, 40, 50), perform the following tasks:<pre>\n",
    "   a. Retrieve the first element of the tuple.\n",
    "   b. Retrieve the last element of the tuple.\n",
    "   c. Retrieve the sublist (20, 30).\n",
    "   d. Retrieve the sublist (30, 40, 50).\n",
    "   e. Reverse the tuple.\n"
   ]
  },
  {
   "cell_type": "markdown",
   "metadata": {},
   "source": [
    "\n",
    "▶️ D. Given the tuple (5, 10, 15, 20, 25, 30, 35), perform the following tasks:<pre>\n",
    "   a. Retrieve elements at even indices.\n",
    "   b. Retrieve elements at odd indices.\n",
    "   c. Retrieve every third element starting from the second element.\n",
    "   d. Reverse the tuple using slicing.\n"
   ]
  },
  {
   "cell_type": "markdown",
   "metadata": {},
   "source": [
    "\n",
    "▶️ E. Given the list [1, 2, 3, 4, 5], perform the following tasks: <pre>\n",
    "   a. Retrieve the first element of the list.\n",
    "   b. Retrieve the last element of the list.\n",
    "   c. Retrieve the sublist [2, 3].\n",
    "   d. Retrieve the sublist [3, 4, 5].\n",
    "   e. Reverse the list.\n"
   ]
  },
  {
   "cell_type": "markdown",
   "metadata": {},
   "source": [
    "\n",
    "▶️ F. Given the list [10, 20, 30, 40, 50, 60, 70], perform the following tasks: <pre>\n",
    "   a. Retrieve elements at even indices.\n",
    "   b. Retrieve elements at odd indices.\n",
    "   c. Retrieve every third element starting from the second element.\n",
    "   d. Reverse the list using slicing.\n"
   ]
  },
  {
   "cell_type": "markdown",
   "metadata": {},
   "source": [
    "\n",
    "▶️ G. Given the dictionary {\"name\": \"John\", \"age\": 30, \"city\": \"New York\"}, perform the following tasks: <pre>\n",
    "   a. Retrieve the value associated with the key \"name\".\n",
    "   b. Retrieve the value associated with the key \"age\".\n",
    "   c. Retrieve the value associated with the key \"city\".\n"
   ]
  },
  {
   "cell_type": "markdown",
   "metadata": {},
   "source": [
    "\n",
    "▶️ H. Given the dictionary {\"apple\": 3, \"banana\": 6, \"cherry\": 9, \"date\": 12}, perform the following tasks: <pre>\n",
    "   a. Retrieve keys at even indices.\n",
    "   b. Retrieve keys at odd indices.\n",
    "   c. Retrieve every third key starting from the second key.\n",
    "   d. Reverse the dictionary (swap keys with values)."
   ]
  },
  {
   "cell_type": "markdown",
   "metadata": {},
   "source": [
    "#### 2.1.3 var_name.method_name(input_01, . ,input_0n)"
   ]
  },
  {
   "cell_type": "code",
   "execution_count": null,
   "metadata": {},
   "outputs": [],
   "source": []
  },
  {
   "cell_type": "code",
   "execution_count": null,
   "metadata": {},
   "outputs": [],
   "source": []
  },
  {
   "cell_type": "code",
   "execution_count": null,
   "metadata": {},
   "outputs": [],
   "source": []
  },
  {
   "cell_type": "markdown",
   "metadata": {},
   "source": [
    "\n",
    "▶️ String Operations:<pre>\n",
    "A. Concatenate the strings \"Hello\" and \"World\".\n",
    "B. Repeat the string \"Python\" three times.\n",
    "C. Extract the first three characters from the string \"Programming\".\n",
    "D. Convert the string \"HELLO\" to lowercase.\n",
    "E. Check if the string \"Python\" contains the substring \"th\".\n",
    "\n",
    "▶️ Tuple Operations:<pre>\n",
    "A. Create a tuple containing the numbers 1, 2, and 3.\n",
    "B. Concatenate the tuple (4, 5, 6) with the previous tuple.\n",
    "C. Find the index of the number 3 in the concatenated tuple.\n",
    "\n",
    "▶️ Set Operations:<pre>\n",
    "A. Create a set containing the numbers 1, 2, and 3.\n",
    "B. Add the number 4 to the set.\n",
    "C. Remove the number 2 from the set.\n",
    "D. Check if the set {1, 2, 3} is a subset of {1, 2, 3, 4, 5}.\n",
    "E. Find the intersection of the sets {1, 2, 3} and {3, 4, 5}.\n",
    "\n",
    "▶️ List Operations:<pre>\n",
    "A. Create a list containing the numbers from 1 to 5.\n",
    "B. Append the number 6 to the list.\n",
    "C. Remove the number 3 from the list.\n",
    "D. Insert the number 10 at index 2.\n",
    "E. Sort the list in ascending order.\n",
    "\n",
    "▶️ Dictionary Operations:<pre>\n",
    "A. Create a dictionary with the keys \"name\" and \"age\" and their corresponding values.\n",
    "B. Add a new key-value pair \"city\" with the value \"New York\".\n",
    "C. Update the value of the \"age\" key to 25.\n",
    "D. Remove the key \"city\" from the dictionary.\n",
    "E. Check if the key \"name\" exists in the dictionary.\n",
    "```"
   ]
  },
  {
   "cell_type": "markdown",
   "metadata": {},
   "source": [
    "### 2.2 Operation ▶️ variable_name = data sign data"
   ]
  },
  {
   "cell_type": "markdown",
   "metadata": {},
   "source": [
    "##### 2.2.1 Simple Operation"
   ]
  },
  {
   "cell_type": "markdown",
   "metadata": {},
   "source": [
    "##### 2.2.2 Complex Operation"
   ]
  },
  {
   "cell_type": "markdown",
   "metadata": {},
   "source": [
    "Here are the problem statements formatted for a Jupyter markdown cell:\n",
    "\n",
    "```markdown\n",
    "# Compound Operations in Engineering\n",
    "\n",
    "Solve the following problems for various engineering disciplines:\n",
    "\n",
    "1. **Mechanical Engineering**: \n",
    "   Calculate the stress (σ) on a beam with a force (F) of 5000 N applied over an area (A) of 10 cm². \n",
    "   (Assume the force is uniformly distributed over the area. A = 0.001 m²)\n",
    "   Use the formula: σ = F / A\n",
    "\n",
    "2. **Civil Engineering**: \n",
    "   Determine the bending moment (M) for a simply supported beam with a point load (P) of 2000 N at the midpoint (L/2). \n",
    "   Assume L = 8 m for demonstration purposes. \n",
    "   Use the formula: M = (P × L) / 4\n",
    "\n",
    "3. **Electrical Engineering**: \n",
    "   Find the total resistance (Rₜₒₜₐₗ) of a circuit with three resistors (R1, R2, R3) in series. \n",
    "   (Assume the resistors have negligible internal resistance. R1 = R2 = R3 = 100 Ω)\n",
    "   Use the formula: Rₜₒₜₐₗ = R1 + R2 + R3\n",
    "\n",
    "4. **Chemical Engineering**: \n",
    "   Calculate the conversion rate (X) of a chemical reaction with a reactant concentration (C) of 0.5 mol/L after 10 minutes (t).\n",
    "   (Assume a first-order reaction and constant reaction conditions. C₀ = 1.0 mol/L)\n",
    "   Use the formula: X = (C₀ - Cₜ) / C₀\n",
    "\n",
    "5. **Aerospace Engineering**: \n",
    "   Compute the lift force (L) on an airplane wing with an area (S) of 50 m² and a lift coefficient (Cₗ) of 0.8 at sea level. \n",
    "   (Assume steady-state flight and standard atmospheric conditions. ρ = 1.225 kg/m³)\n",
    "   Use the formula: L = (1/2) × ρ × V² × S × Cₗ\n",
    "\n",
    "6. **Environmental Engineering**: \n",
    "   Estimate the sedimentation rate (v) of particles in water with a diameter (d) of 0.1 mm and a density (ρₚ) of 2.65 g/cm³. \n",
    "   (Assume laminar flow and spherical particles. ρf = 1000 kg/m³, μ = 1 mPa·s = 10⁻³ kg/m·s)\n",
    "   Use Stokes' Law: v = [2g(ρₚ - ρf)d²] / (9μ)\n",
    "\n",
    "7. **Industrial Engineering**: \n",
    "   Determine the cycle time (T) for a production line that produces 100 units per hour (U). \n",
    "   (Assume continuous operation and no downtime. U = 100 units/hour)\n",
    "   Use the formula: T = 60 / U\n",
    "\n",
    "8. **Materials Engineering**: \n",
    "   Calculate the Young's modulus (E) of a material that stretches (ΔL) 0.01 m under a tensile load (F) of 1000 N and has an original length (L₀) of 1 m. \n",
    "   (Assume the material behaves linearly and elastically. A = 100 × 10⁻⁶ m²)\n",
    "   Use the formula: E = (F × L₀) / (A × ΔL)\n",
    "\n",
    "9. **Biomedical Engineering**: \n",
    "   Find the voltage (V) across a cell membrane with an internal ion concentration (Cᵢₙ) of 120 mM and an external concentration (Cₒᵤₜ) of 150 mM. \n",
    "   (Assume ideal conditions and negligible membrane permeability to other ions. R = 8.314 J/(mol·K), F = 96485 C/mol, T = 298 K)\n",
    "   Use the Nernst equation: V = (RT/F) × ln(Cₒᵤₜ/Cᵢₙ)\n",
    "\n",
    "10. **Software Engineering**: \n",
    "    Calculate the time complexity (T) of a sorting algorithm with an input size (n) and a growth rate of n log n. \n",
    "    (Assume average-case scenario and ideal computational resources. n = 1000)\n",
    "    Use the formula: T(n) = O(n log n)\n",
    "\n",
    "11. **Thermal Engineering**: \n",
    "    Determine the heat transfer rate (Q) through a wall with a thermal conductivity (k) of 0.04 W/mK, an area (A) of 10 m², and a temperature difference (ΔT) of 20°C. \n",
    "    (Assume steady-state conditions and uniform material properties. k = 0.04 W/mK)\n",
    "    Use Fourier's Law: Q = k × A × ΔT\n",
    "```"
   ]
  },
  {
   "cell_type": "code",
   "execution_count": 11,
   "metadata": {},
   "outputs": [],
   "source": []
  },
  {
   "cell_type": "code",
   "execution_count": null,
   "metadata": {},
   "outputs": [],
   "source": []
  },
  {
   "cell_type": "code",
   "execution_count": null,
   "metadata": {},
   "outputs": [],
   "source": []
  },
  {
   "cell_type": "code",
   "execution_count": null,
   "metadata": {},
   "outputs": [],
   "source": []
  },
  {
   "cell_type": "code",
   "execution_count": null,
   "metadata": {},
   "outputs": [],
   "source": []
  },
  {
   "cell_type": "code",
   "execution_count": null,
   "metadata": {},
   "outputs": [],
   "source": []
  },
  {
   "cell_type": "code",
   "execution_count": null,
   "metadata": {},
   "outputs": [],
   "source": []
  },
  {
   "cell_type": "code",
   "execution_count": null,
   "metadata": {},
   "outputs": [],
   "source": []
  },
  {
   "cell_type": "code",
   "execution_count": null,
   "metadata": {},
   "outputs": [],
   "source": []
  },
  {
   "cell_type": "code",
   "execution_count": null,
   "metadata": {},
   "outputs": [],
   "source": []
  },
  {
   "cell_type": "code",
   "execution_count": null,
   "metadata": {},
   "outputs": [],
   "source": []
  },
  {
   "cell_type": "code",
   "execution_count": null,
   "metadata": {},
   "outputs": [],
   "source": []
  },
  {
   "cell_type": "code",
   "execution_count": null,
   "metadata": {},
   "outputs": [],
   "source": []
  },
  {
   "cell_type": "code",
   "execution_count": null,
   "metadata": {},
   "outputs": [],
   "source": []
  },
  {
   "cell_type": "code",
   "execution_count": null,
   "metadata": {},
   "outputs": [],
   "source": []
  },
  {
   "cell_type": "code",
   "execution_count": null,
   "metadata": {},
   "outputs": [],
   "source": []
  },
  {
   "cell_type": "code",
   "execution_count": null,
   "metadata": {},
   "outputs": [],
   "source": []
  },
  {
   "cell_type": "code",
   "execution_count": null,
   "metadata": {},
   "outputs": [],
   "source": []
  },
  {
   "cell_type": "code",
   "execution_count": null,
   "metadata": {},
   "outputs": [],
   "source": []
  },
  {
   "cell_type": "code",
   "execution_count": null,
   "metadata": {},
   "outputs": [],
   "source": []
  },
  {
   "cell_type": "code",
   "execution_count": null,
   "metadata": {},
   "outputs": [],
   "source": []
  },
  {
   "cell_type": "code",
   "execution_count": null,
   "metadata": {},
   "outputs": [],
   "source": []
  },
  {
   "cell_type": "markdown",
   "metadata": {},
   "source": []
  },
  {
   "cell_type": "markdown",
   "metadata": {},
   "source": []
  },
  {
   "cell_type": "markdown",
   "metadata": {},
   "source": []
  },
  {
   "cell_type": "markdown",
   "metadata": {},
   "source": []
  },
  {
   "cell_type": "markdown",
   "metadata": {},
   "source": []
  },
  {
   "cell_type": "markdown",
   "metadata": {},
   "source": []
  },
  {
   "cell_type": "markdown",
   "metadata": {},
   "source": []
  },
  {
   "cell_type": "markdown",
   "metadata": {},
   "source": []
  }
 ],
 "metadata": {
  "kernelspec": {
   "display_name": "Python 3",
   "language": "python",
   "name": "python3"
  },
  "language_info": {
   "codemirror_mode": {
    "name": "ipython",
    "version": 3
   },
   "file_extension": ".py",
   "mimetype": "text/x-python",
   "name": "python",
   "nbconvert_exporter": "python",
   "pygments_lexer": "ipython3",
   "version": "3.12.1"
  }
 },
 "nbformat": 4,
 "nbformat_minor": 2
}
